{
  "nbformat": 4,
  "nbformat_minor": 0,
  "metadata": {
    "colab": {
      "name": "cnn.ipynb",
      "provenance": [],
      "authorship_tag": "ABX9TyPfrtyyINW5Fi7psY8ofP0w",
      "include_colab_link": true
    },
    "kernelspec": {
      "name": "python3",
      "display_name": "Python 3"
    }
  },
  "cells": [
    {
      "cell_type": "markdown",
      "metadata": {
        "id": "view-in-github",
        "colab_type": "text"
      },
      "source": [
        "<a href=\"https://colab.research.google.com/github/bhuwan1998/Neural_networks/blob/master/cnn.ipynb\" target=\"_parent\"><img src=\"https://colab.research.google.com/assets/colab-badge.svg\" alt=\"Open In Colab\"/></a>"
      ]
    },
    {
      "cell_type": "code",
      "metadata": {
        "id": "_G1phLvS8mdb",
        "colab_type": "code",
        "colab": {}
      },
      "source": [
        "import tensorflow as tf \n",
        "from tensorflow import keras\n",
        "from keras.models import Sequential\n",
        "from keras.layers import Dense, Activation, Flatten, Conv2D, MaxPooling2D, Dropout\n",
        "from keras.utils import to_categorical\n",
        "import numpy as np \n",
        "import pandas as pd \n",
        "import matplotlib.pyplot as plt\n",
        "\n",
        "\n"
      ],
      "execution_count": 2,
      "outputs": []
    },
    {
      "cell_type": "code",
      "metadata": {
        "id": "sSk86uAy9R4E",
        "colab_type": "code",
        "colab": {}
      },
      "source": [
        "from keras.datasets import mnist\n"
      ],
      "execution_count": 3,
      "outputs": []
    },
    {
      "cell_type": "code",
      "metadata": {
        "id": "Jjd2jajH-NUc",
        "colab_type": "code",
        "colab": {
          "base_uri": "https://localhost:8080/",
          "height": 54
        },
        "outputId": "7981a0d6-ec10-466f-edd6-427a31b475fe"
      },
      "source": [
        "(x_train, y_train), (x_test, y_test) = mnist.load_data()"
      ],
      "execution_count": 4,
      "outputs": [
        {
          "output_type": "stream",
          "text": [
            "Downloading data from https://s3.amazonaws.com/img-datasets/mnist.npz\n",
            "11493376/11490434 [==============================] - 2s 0us/step\n"
          ],
          "name": "stdout"
        }
      ]
    },
    {
      "cell_type": "code",
      "metadata": {
        "id": "z1J6F257-SQl",
        "colab_type": "code",
        "colab": {
          "base_uri": "https://localhost:8080/",
          "height": 91
        },
        "outputId": "015d8bea-bc2a-496d-c72b-762e5cc0174e"
      },
      "source": [
        "print(\"type x_train : \", type(x_train))\n",
        "print(\"type x_test : \", type(x_test))\n",
        "print(\"type y_train: \", type(y_train))\n",
        "print(\"type y_test: \", type(y_test))"
      ],
      "execution_count": 9,
      "outputs": [
        {
          "output_type": "stream",
          "text": [
            "type x_train :  <class 'numpy.ndarray'>\n",
            "type x_test :  <class 'numpy.ndarray'>\n",
            "type y_train:  <class 'numpy.ndarray'>\n",
            "type y_test:  <class 'numpy.ndarray'>\n"
          ],
          "name": "stdout"
        }
      ]
    },
    {
      "cell_type": "code",
      "metadata": {
        "id": "0qCa2qC1-UwB",
        "colab_type": "code",
        "colab": {
          "base_uri": "https://localhost:8080/",
          "height": 283
        },
        "outputId": "414e83f5-b206-4389-a2a7-120fcd76eaa8"
      },
      "source": [
        "index = 1\n",
        "plt.imshow(x_train[index], cmap = 'gray')"
      ],
      "execution_count": 24,
      "outputs": [
        {
          "output_type": "execute_result",
          "data": {
            "text/plain": [
              "<matplotlib.image.AxesImage at 0x7f43c23b8278>"
            ]
          },
          "metadata": {
            "tags": []
          },
          "execution_count": 24
        },
        {
          "output_type": "display_data",
          "data": {
            "image/png": "[encoded data removed]",
            "text/plain": [
              "<Figure size 432x288 with 1 Axes>"
            ]
          },
          "metadata": {
            "tags": [],
            "needs_background": "light"
          }
        }
      ]
    },
    {
      "cell_type": "code",
      "metadata": {
        "id": "RV2bh2Yx-1i1",
        "colab_type": "code",
        "colab": {
          "base_uri": "https://localhost:8080/",
          "height": 35
        },
        "outputId": "76f03705-e190-4fa7-d70e-9d6e29dfe0d8"
      },
      "source": [
        "print(\"x_train: \", x_train.shape)"
      ],
      "execution_count": 14,
      "outputs": [
        {
          "output_type": "stream",
          "text": [
            "x_train:  (60000, 28, 28)\n"
          ],
          "name": "stdout"
        }
      ]
    },
    {
      "cell_type": "code",
      "metadata": {
        "id": "2u2wtOI9--YX",
        "colab_type": "code",
        "colab": {
          "base_uri": "https://localhost:8080/",
          "height": 35
        },
        "outputId": "7d5b95b5-11b4-4d36-fdca-aa16a76a6f49"
      },
      "source": [
        "print(\"image label : \", y_train[index])"
      ],
      "execution_count": 15,
      "outputs": [
        {
          "output_type": "stream",
          "text": [
            "image label :  9\n"
          ],
          "name": "stdout"
        }
      ]
    },
    {
      "cell_type": "code",
      "metadata": {
        "id": "383aW0kH_IqI",
        "colab_type": "code",
        "colab": {
          "base_uri": "https://localhost:8080/",
          "height": 35
        },
        "outputId": "6b13bb5a-c1f7-4838-a516-efe34b3b05ac"
      },
      "source": [
        "#converting it to 3x3 matrices \n",
        "classification = [0,1,2,3,4,5,6,7,8,9]\n",
        "print(\"image label: \", classification[y_train[index]])"
      ],
      "execution_count": 27,
      "outputs": [
        {
          "output_type": "stream",
          "text": [
            "image label:  0\n"
          ],
          "name": "stdout"
        }
      ]
    },
    {
      "cell_type": "code",
      "metadata": {
        "id": "pylHSR1n_K74",
        "colab_type": "code",
        "colab": {}
      },
      "source": [
        "#reshaping the data to fit the model \n",
        "# number of images, pixels for the image, last number 1 signifies that the image is grayscale \n",
        "\n",
        "x_train = x_train.reshape(60000, 28, 28, 1)\n",
        "x_test = x_test.reshape(10000, 28, 28, 1)"
      ],
      "execution_count": 30,
      "outputs": []
    },
    {
      "cell_type": "code",
      "metadata": {
        "id": "JHuTiDTdAbXv",
        "colab_type": "code",
        "colab": {}
      },
      "source": [
        "#one hot encode the values of y\n",
        "#for example if the image shows a number of 5 \n",
        "# then 1 in the array of 10 numbers will be at location 6 (starts from 0 )\n",
        "y_train = to_categorical(y_train)\n",
        "y_test = to_categorical(y_test)"
      ],
      "execution_count": 31,
      "outputs": []
    },
    {
      "cell_type": "code",
      "metadata": {
        "id": "bPalKS0sBK4q",
        "colab_type": "code",
        "colab": {
          "base_uri": "https://localhost:8080/",
          "height": 183
        },
        "outputId": "814577a3-bfba-4cd7-e48b-1fb12fff6812"
      },
      "source": [
        "model = Sequential()\n",
        "\n",
        "model.add(Conv2D(64, kernel_size = 3, activation='relu', input_shape = (28,28,1)))\n",
        "\n",
        "model.add(Conv2D(32, kernel_size = 3, activation = 'relu'))\n",
        "\n",
        "model.add(Flatten())\n",
        "model.add(Dense(10, activation='softmax'))\n",
        "\n",
        "model.compile(optimizer='adam', loss='categorical_crossentropy', metrics=['accuracy'])\n",
        "hist = model.fit(x_train, y_train, validation_data = (x_test, y_test), epochs = 4)\n"
      ],
      "execution_count": 41,
      "outputs": [
        {
          "output_type": "stream",
          "text": [
            "Train on 60000 samples, validate on 10000 samples\n",
            "Epoch 1/4\n",
            "60000/60000 [==============================] - 177s 3ms/step - loss: 0.2036 - accuracy: 0.9527 - val_loss: 0.0885 - val_accuracy: 0.9726\n",
            "Epoch 2/4\n",
            "60000/60000 [==============================] - 172s 3ms/step - loss: 0.0652 - accuracy: 0.9799 - val_loss: 0.0782 - val_accuracy: 0.9773\n",
            "Epoch 3/4\n",
            "60000/60000 [==============================] - 172s 3ms/step - loss: 0.0466 - accuracy: 0.9855 - val_loss: 0.1069 - val_accuracy: 0.9726\n",
            "Epoch 4/4\n",
            "60000/60000 [==============================] - 174s 3ms/step - loss: 0.0363 - accuracy: 0.9887 - val_loss: 0.1306 - val_accuracy: 0.9666\n"
          ],
          "name": "stdout"
        }
      ]
    },
    {
      "cell_type": "code",
      "metadata": {
        "id": "4YFP5ngaBN7e",
        "colab_type": "code",
        "colab": {
          "base_uri": "https://localhost:8080/",
          "height": 355
        },
        "outputId": "98da0f18-ffd9-4345-cfee-d67a8d2820b6"
      },
      "source": [
        "figure = plt.figure(figsize = (8,5))\n",
        "plt.plot(hist.history['accuracy'], c = 'red', label = 'train')\n",
        "plt.plot(hist.history['val_accuracy'], c = 'blue', label = 'validation')\n",
        "plt.title(\"Train vs Validation\", size = 14)\n",
        "plt.legend()\n"
      ],
      "execution_count": 50,
      "outputs": [
        {
          "output_type": "execute_result",
          "data": {
            "text/plain": [
              "<matplotlib.legend.Legend at 0x7f43c3400fd0>"
            ]
          },
          "metadata": {
            "tags": []
          },
          "execution_count": 50
        },
        {
          "output_type": "display_data",
          "data": {
            "image/png": "[encoded data removed]",
            "text/plain": [
              "<Figure size 576x360 with 1 Axes>"
            ]
          },
          "metadata": {
            "tags": [],
            "needs_background": "light"
          }
        }
      ]
    },
    {
      "cell_type": "code",
      "metadata": {
        "id": "T7_RD45KJJdR",
        "colab_type": "code",
        "colab": {
          "base_uri": "https://localhost:8080/",
          "height": 355
        },
        "outputId": "92f47700-deb9-45dc-9f6c-35db4e5d4aef"
      },
      "source": [
        "figure = plt.figure(figsize = (8,5))\n",
        "plt.plot(hist.history['loss'], c = 'red', label = 'train')\n",
        "plt.plot(hist.history['val_loss'], c = 'blue', label = 'validation')\n",
        "plt.title(\"Train vs Validation\", size = 14)\n",
        "plt.legend()"
      ],
      "execution_count": 53,
      "outputs": [
        {
          "output_type": "execute_result",
          "data": {
            "text/plain": [
              "<matplotlib.legend.Legend at 0x7f43c2398a20>"
            ]
          },
          "metadata": {
            "tags": []
          },
          "execution_count": 53
        },
        {
          "output_type": "display_data",
          "data": {
            "image/png": "[encoded data removed]",
            "text/plain": [
              "<Figure size 576x360 with 1 Axes>"
            ]
          },
          "metadata": {
            "tags": [],
            "needs_background": "light"
          }
        }
      ]
    },
    {
      "cell_type": "code",
      "metadata": {
        "id": "JLSXBu0cJ6xF",
        "colab_type": "code",
        "colab": {}
      },
      "source": [
        ""
      ],
      "execution_count": null,
      "outputs": []
    }
  ]
}